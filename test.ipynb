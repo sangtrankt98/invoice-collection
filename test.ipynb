{
 "cells": [
  {
   "cell_type": "code",
   "execution_count": 2,
   "id": "9a85fe40",
   "metadata": {},
   "outputs": [],
   "source": [
    "import openai\n",
    "import base64\n",
    "import config\n",
    "\n",
    "import fitz  # PyMuPDF\n",
    "\n",
    "doc = fitz.open(\n",
    "    r\"C:\\Users\\NJV\\source_code\\invoice-collection\\downloads\\1C25MYY_00014317.pdf\"\n",
    ")\n",
    "for page_num in range(len(doc)):\n",
    "    page = doc.load_page(page_num)\n",
    "    pix = page.get_pixmap()\n",
    "    pix.save(f\"page_{page_num + 1}.png\")"
   ]
  },
  {
   "cell_type": "code",
   "execution_count": 5,
   "id": "c78a996b",
   "metadata": {},
   "outputs": [
    {
     "name": "stdout",
     "output_type": "stream",
     "text": [
      "{\n",
      "  \"invoice_number\": \"00031417\",\n",
      "  \"date\": \"21/03/2025\",\n",
      "  \"vendor_name\": \"CÔNG TY TNHH MỘT THÀNH VIÊN THƯƠNG MẠI HIẾP PHÚ - CHI NHÁNH 1\",\n",
      "  \"total_amount\": \"500.000\"\n",
      "}\n"
     ]
    }
   ],
   "source": [
    "# Load your invoice image\n",
    "with open(\"page_1.png\", \"rb\") as f:\n",
    "    image_data = base64.b64encode(f.read()).decode(\"utf-8\")\n",
    "openai.api_key = config.OPENAI\n",
    "response = openai.chat.completions.create(\n",
    "    model=\"gpt-4-turbo\",\n",
    "    messages=[\n",
    "        {\n",
    "            \"role\": \"user\",\n",
    "            \"content\": [\n",
    "                {\n",
    "                    \"type\": \"text\",\n",
    "                    \"text\": \"Extract the invoice number, date, vendor name, and total amount from this invoice. Display as a dict without any output comment\",\n",
    "                },\n",
    "                {\n",
    "                    \"type\": \"image_url\",\n",
    "                    \"image_url\": {\"url\": f\"data:image/jpeg;base64,{image_data}\"},\n",
    "                },\n",
    "            ],\n",
    "        }\n",
    "    ],\n",
    "    max_tokens=500,\n",
    ")\n",
    "print(response.choices[0].message.content)"
   ]
  }
 ],
 "metadata": {
  "kernelspec": {
   "display_name": "env",
   "language": "python",
   "name": "python3"
  },
  "language_info": {
   "codemirror_mode": {
    "name": "ipython",
    "version": 3
   },
   "file_extension": ".py",
   "mimetype": "text/x-python",
   "name": "python",
   "nbconvert_exporter": "python",
   "pygments_lexer": "ipython3",
   "version": "3.10.11"
  }
 },
 "nbformat": 4,
 "nbformat_minor": 5
}
